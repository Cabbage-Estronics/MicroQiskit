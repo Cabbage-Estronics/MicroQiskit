{
 "cells": [
  {
   "cell_type": "markdown",
   "metadata": {},
   "source": [
    "# Having fun with MicroQiskit\n",
    "\n",
    "This repository is the source of [MicroQiskit](README.md), a lightweight version of [Qiskit](https://qiskit.org) designed for microcontroller devices. Below you'll find some examples of MicroQiskit in use.\n",
    "\n",
    "## What you can do\n",
    "\n",
    "* [Learn what a qubit is, and how to play with one on a PewPew](https://nbviewer.jupyter.org/github/quantumjim/MicroQiskit/blob/master/PewPew-Qubit.ipynb)\n",
    "* [Try our mini-hackathon, by using a qubit to procedurally generate a landscape](https://nbviewer.jupyter.org/github/quantumjim/MicroQiskit/blob/master/Terrain-Hackathon.ipynb)\n",
    "\n",
    "## What others have done\n",
    "\n",
    "* [Quantum Rogues](https://github.com/quantumjim/pewpew_qiskit_workshops/blob/master/Quantum-Rogues.ipynb)\n",
    "\n",
    "The following were made using Aether, the previous version of MicroQiskit.\n",
    "\n",
    "* [Q-Snake](https://github.com/geduardo/Hackathon-Quantum-Snake/blob/master/README.md)\n",
    "* [PewPew-Qube](https://github.com/oscarhiggott/pewpew-qube/blob/master/README.md)"
   ]
  },
  {
   "cell_type": "code",
   "execution_count": null,
   "metadata": {},
   "outputs": [],
   "source": []
  }
 ],
 "metadata": {
  "kernelspec": {
   "display_name": "Python 3",
   "language": "python",
   "name": "python3"
  },
  "language_info": {
   "codemirror_mode": {
    "name": "ipython",
    "version": 3
   },
   "file_extension": ".py",
   "mimetype": "text/x-python",
   "name": "python",
   "nbconvert_exporter": "python",
   "pygments_lexer": "ipython3",
   "version": "3.7.0"
  }
 },
 "nbformat": 4,
 "nbformat_minor": 2
}
