{
 "cells": [
  {
   "cell_type": "markdown",
   "metadata": {},
   "source": [
    "# Having fun with MicroQiskit\n",
    "\n",
    "This repository is the source of [MicroQiskit](README.md), a lightweight version of [Qiskit](https://qiskit.org) designed for microcontroller devices. Below you'll find some examples of MicroQiskit in use.\n",
    "\n",
    "## Getting started\n",
    "\n",
    "* [Learn what a qubit is, and how to play with one on a PewPew](PewPew-Qubit.ipynb)\n",
    "\n",
    "## Example projects\n",
    "\n",
    "Here are some games that have been made using MicroQiskit.\n",
    "\n",
    "* [Terrain-Generator](Terrain-Generator.ipynb)\n",
    "* [Quantum Rogues](Quantum-Rogues.ipynb)"
   ]
  },
  {
   "cell_type": "code",
   "execution_count": null,
   "metadata": {},
   "outputs": [],
   "source": []
  }
 ],
 "metadata": {
  "kernelspec": {
   "display_name": "Python 3",
   "language": "python",
   "name": "python3"
  },
  "language_info": {
   "codemirror_mode": {
    "name": "ipython",
    "version": 3
   },
   "file_extension": ".py",
   "mimetype": "text/x-python",
   "name": "python",
   "nbconvert_exporter": "python",
   "pygments_lexer": "ipython3",
   "version": "3.7.3"
  }
 },
 "nbformat": 4,
 "nbformat_minor": 2
}
