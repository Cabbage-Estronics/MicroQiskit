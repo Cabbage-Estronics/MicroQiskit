{
 "cells": [
  {
   "cell_type": "code",
   "execution_count": 1,
   "metadata": {},
   "outputs": [],
   "source": [
    "import qiskit as qk\n",
    "from math import pi"
   ]
  },
  {
   "cell_type": "code",
   "execution_count": 4,
   "metadata": {},
   "outputs": [
    {
     "name": "stdout",
     "output_type": "stream",
     "text": [
      "[0.98078528+0.j 0.19509032+0.j]\n"
     ]
    }
   ],
   "source": [
    "qc = qk.QuantumCircuit(1)\n",
    "qc.ry(pi/8,0)\n",
    "print(qk.execute(qc,qk.Aer.get_backend('statevector_simulator')).result().get_statevector())"
   ]
  },
  {
   "cell_type": "code",
   "execution_count": 16,
   "metadata": {},
   "outputs": [
    {
     "name": "stdout",
     "output_type": "stream",
     "text": [
      "[0.96193977+0.19134172j 0.03806023-0.19134172j]\n"
     ]
    }
   ],
   "source": [
    "qc = qk.QuantumCircuit(1)\n",
    "qc.h(0)\n",
    "qc.rz(pi/8,0)\n",
    "qc.h(0)\n",
    "print(qk.execute(qc,qk.Aer.get_backend('statevector_simulator')).result().get_statevector())"
   ]
  },
  {
   "cell_type": "code",
   "execution_count": 12,
   "metadata": {},
   "outputs": [],
   "source": [
    "from microqiskit import *"
   ]
  },
  {
   "cell_type": "code",
   "execution_count": 13,
   "metadata": {},
   "outputs": [
    {
     "data": {
      "text/plain": [
       "[[0.9807852803850672, -6.938893903907228e-17], [0.19509032201251536, 0.0]]"
      ]
     },
     "execution_count": 13,
     "metadata": {},
     "output_type": "execute_result"
    }
   ],
   "source": [
    "qc = QuantumCircuit(1)\n",
    "qc.ry(pi/8,0)\n",
    "simulate(qc,get='statevector')"
   ]
  },
  {
   "cell_type": "code",
   "execution_count": 15,
   "metadata": {},
   "outputs": [
    {
     "data": {
      "text/plain": [
       "[[0.980785280366904, 0.0], [0.0, -0.19509032200890247]]"
      ]
     },
     "execution_count": 15,
     "metadata": {},
     "output_type": "execute_result"
    }
   ],
   "source": [
    "qc = QuantumCircuit(1)\n",
    "qc.h(0)\n",
    "qc.rz(pi/8,0)\n",
    "qc.h(0)\n",
    "simulate(qc,get='statevector')"
   ]
  },
  {
   "cell_type": "code",
   "execution_count": null,
   "metadata": {},
   "outputs": [],
   "source": []
  }
 ],
 "metadata": {
  "kernelspec": {
   "display_name": "Python 3",
   "language": "python",
   "name": "python3"
  },
  "language_info": {
   "codemirror_mode": {
    "name": "ipython",
    "version": 3
   },
   "file_extension": ".py",
   "mimetype": "text/x-python",
   "name": "python",
   "nbconvert_exporter": "python",
   "pygments_lexer": "ipython3",
   "version": "3.7.3"
  }
 },
 "nbformat": 4,
 "nbformat_minor": 4
}
